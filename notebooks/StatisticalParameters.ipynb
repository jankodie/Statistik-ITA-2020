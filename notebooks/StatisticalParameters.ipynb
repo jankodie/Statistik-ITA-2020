{
 "cells": [
  {
   "cell_type": "code",
   "execution_count": null,
   "id": "unlimited-gender",
   "metadata": {},
   "outputs": [],
   "source": [
    "%matplotlib notebook\n",
    "from scipy.stats import norm, uniform\n",
    "#from scipy.signal import fftconvolve\n",
    "from ipywidgets import interact, IntSlider, FloatSlider\n",
    "import numpy as np\n",
    "from numpy.random import multivariate_normal\n",
    "import matplotlib.pyplot as plt\n",
    "from matplotlib.ticker import NullFormatter"
   ]
  },
  {
   "cell_type": "markdown",
   "id": "experienced-statement",
   "metadata": {},
   "source": [
    "# Lageparameter"
   ]
  },
  {
   "cell_type": "markdown",
   "id": "grave-recovery",
   "metadata": {},
   "source": [
    "## Jensensche Ungleichung\n"
   ]
  },
  {
   "cell_type": "code",
   "execution_count": null,
   "id": "different-technician",
   "metadata": {},
   "outputs": [],
   "source": [
    "sqrt = lambda x_vec: np.sqrt(x_vec)\n",
    "sqr = lambda x_vec: x_vec**2\n",
    "\n",
    "def plot_transformation(fun, sampler = 'norm', n = 1000):\n",
    "    plt.close()\n",
    "    # Sample random data\n",
    "    if (sampler == 'norm'):\n",
    "        mu, sig = 2.5, 1.0\n",
    "        x = norm.rvs(mu, sig, n)\n",
    "    elif (sampler == 'unif'):\n",
    "        a,b = 0,10\n",
    "        x = uniform.rvs(loc = a, scale = b - a, size = n)\n",
    "    x = x[x>=0]\n",
    "    y = fun(x)\n",
    "\n",
    "    nullfmt = NullFormatter()         # no labels\n",
    "\n",
    "    # definitions for the axes\n",
    "    left, width = 0.05, 0.62\n",
    "    bottom, height = 0.05, 0.62\n",
    "    left_h = left + width + 0.02\n",
    "    bottom_h = bottom + 0.2 + 0.1\n",
    "    \n",
    "    rect_scatter = [left, bottom_h, width, height]\n",
    "    rect_histx = [left, bottom, width, 0.2]\n",
    "    rect_histy = [left_h, bottom_h, 0.2, height]\n",
    "    \n",
    "    # start with a rectangular Figure\n",
    "    plt.figure(1, figsize=(8, 8))\n",
    "    \n",
    "    axScatter = plt.axes(rect_scatter)\n",
    "    axHistx = plt.axes(rect_histx)\n",
    "    axHisty = plt.axes(rect_histy)\n",
    "    \n",
    "    # no labels\n",
    "    axHistx.xaxis.set_major_formatter(nullfmt)\n",
    "    axHisty.yaxis.set_major_formatter(nullfmt)\n",
    "    \n",
    "    # the scatter plot:\n",
    "    axScatter.scatter(x, y)\n",
    "    \n",
    "    # Determine limits:\n",
    "    xlim = np.max(x)\n",
    "    ylim = np.max(y)\n",
    "    \n",
    "    x_mean = np.mean(x)\n",
    "    y_mean = np.mean(y)\n",
    "    \n",
    "    x_line = np.linspace(0,xlim,100)\n",
    "    axScatter.plot(x_line, fun(x_line), '--', color = 'red', lw=2, alpha=0.9, label=f'$g(x)$')\n",
    "    axScatter.axvline(x_mean, color = 'red', ymax = fun(x_mean)/ylim, label=f'$E(x) \\mapsto g(E(x))$')\n",
    "    axScatter.axhline(fun(x_mean), color = 'red', xmin = x_mean/xlim)\n",
    "    axScatter.legend(loc='best', frameon=False)\n",
    "    \n",
    "    axScatter.set_xlim((0, xlim))\n",
    "    axScatter.set_ylim((0, ylim))\n",
    "    \n",
    "    bins = 100\n",
    "    axHistx.hist(x, bins=bins, alpha = 0.8)\n",
    "    axHistx.axvline(x_mean, color = 'red', label=f'$E(x)$')\n",
    "    axHistx.legend(loc='best', frameon=False)\n",
    "    \n",
    "    axHisty.hist(y, bins=bins, orientation='horizontal', alpha = 0.8)\n",
    "    axHisty.axhline(y_mean, color = 'limegreen', label=f'$E(g(x))$')\n",
    "    axHisty.axhline(fun(x_mean), color = 'red', label=f'$g(E(x))$')\n",
    "    axHisty.legend(loc='best', frameon=False)\n",
    "\n",
    "    axHistx.set_xlim(axScatter.get_xlim())\n",
    "    axHisty.set_ylim(axScatter.get_ylim())\n",
    "    \n",
    "    plt.show()\n",
    "    \n",
    "#plot_transformation(sqr)"
   ]
  },
  {
   "cell_type": "markdown",
   "id": "fitted-insertion",
   "metadata": {},
   "source": [
    "* $g$ konvexe Funktion und $X$ Zufallsvariable:\n",
    "\n",
    "$$ g(E(x)) \\le E(g(X)) $$\n",
    "\n",
    "* $g$ konkave Funktion und $X$ Zufallsvariable:\n",
    "\n",
    "$$ g(E(x)) \\ge E(g(X)) $$"
   ]
  },
  {
   "cell_type": "code",
   "execution_count": null,
   "id": "jewish-composition",
   "metadata": {},
   "outputs": [],
   "source": [
    "interact(plot_transformation,\n",
    "         fun = [('Square',sqr),('Square Root', sqrt)],\n",
    "         sampler = ['norm','unif'],\n",
    "         n = IntSlider(min=100, max=10000, value=1000, continuous_update=False))"
   ]
  },
  {
   "cell_type": "markdown",
   "id": "ideal-swiss",
   "metadata": {},
   "source": [
    "# Mehrdimensionale Zufallsvariablen"
   ]
  },
  {
   "cell_type": "markdown",
   "id": "comfortable-idaho",
   "metadata": {},
   "source": [
    "## Stetige Mehrdimensionale Zufallsvariable\n",
    "\n",
    "Für den Vektor von Zufallsvariablen $X_1,\\cdots,X_n$ existiert die Funktion $f(x_1,\\cdots,x_n)$, so dass sich die Verteilungsfunktion $F(x_1,\\cdots,x_n)$ ergibt:\n",
    "\n",
    "$$\n",
    "F(x_1,\\cdots,x_n) = \\int_{-\\infty}^{x_1} \\cdots \\int_{-\\infty}^{x_n} f(t_1,\\cdots,t_n) \\; dt_n \\cdots dt_1 \n",
    "$$\n",
    "\n",
    " $f(x_1,\\cdots,x_n)$ ist dann die gemeinsame Wahrscheinlichkeitsdichte von $(X_1,\\cdots,X_n)$"
   ]
  },
  {
   "cell_type": "code",
   "execution_count": null,
   "id": "graduate-hammer",
   "metadata": {},
   "outputs": [],
   "source": [
    "def plot_multi(mu1, sigma1, mu2, sigma2, rho = 0, n = 1000):\n",
    "    plt.close()\n",
    "    bins = 100\n",
    "    cov = sigma1 * sigma2 * rho\n",
    "    # Sample random data\n",
    "    data = multivariate_normal([mu1, mu2], [[sigma1**2, cov], [cov, sigma2**2]], size=n)\n",
    "\n",
    "    nullfmt = NullFormatter()         # no labels\n",
    "\n",
    "    # definitions for the axes\n",
    "    left, width = 0.05, 0.62\n",
    "    bottom, height = 0.05, 0.62\n",
    "    left_h = left + width + 0.02\n",
    "    bottom_h = bottom + 0.2 + 0.1\n",
    "    \n",
    "    rect_hist2d = [left, bottom_h, width, height]\n",
    "    rect_histx = [left, bottom, width, 0.2]\n",
    "    rect_histy = [left_h, bottom_h, 0.2, height]\n",
    "    \n",
    "    # start with a rectangular Figure\n",
    "    plt.figure(1, figsize=(8, 8))\n",
    "    \n",
    "    axHist2d = plt.axes(rect_hist2d)\n",
    "    axHistx = plt.axes(rect_histx)\n",
    "    axHisty = plt.axes(rect_histy)\n",
    "    \n",
    "    # no labels\n",
    "    axHistx.xaxis.set_major_formatter(nullfmt)\n",
    "    axHisty.yaxis.set_major_formatter(nullfmt)\n",
    "    \n",
    "    # the scatter plot:\n",
    "    axHist2d.hist2d(data[:,0], data[:,1], bins=bins)\n",
    "    axHistx.hist(data[:,0], bins=bins, alpha = 0.8)\n",
    "    axHisty.hist(data[:,1], bins=bins, orientation='horizontal', alpha = 0.8)\n",
    "    axHistx.set_xlim(axHist2d.get_xlim())\n",
    "    axHisty.set_ylim(axHist2d.get_ylim())\n",
    "    \n",
    "    plt.show()"
   ]
  },
  {
   "cell_type": "markdown",
   "id": "aboriginal-bathroom",
   "metadata": {},
   "source": [
    "### Beispiel zweier normalverteilter Zufallsvariablen\n",
    "\n",
    "\n",
    "\n",
    "$$ \n",
    "X_1 \\sim N(\\mu_1, \\sigma_1) \\, \\wedge \\, X_2 \\sim N(\\mu_2, \\sigma_2) \\\\\n",
    "$$\n",
    "\n",
    "Sind $X_1$ und $X_2$ abhängig, dann ist $\\rho \\ne 0$ und der Vektor $(X_1,X_2)$ folgt einer 2-dimensionalen Normalverteilung. Sind sie unabhängig, dann ist  $\\rho = 0$ und es gilt \n",
    "\n",
    "$$\n",
    "f(x_1,x_2) = f_{X_1}(x_1) \\cdot f_{X_2}(x_2)  \n",
    "$$"
   ]
  },
  {
   "cell_type": "code",
   "execution_count": null,
   "id": "unlikely-cannon",
   "metadata": {},
   "outputs": [],
   "source": [
    "interact(plot_multi,\n",
    "         mu1 = FloatSlider(min=-10.0, max=10.0, value=0.0, continuous_update=False),\n",
    "         sigma1 = FloatSlider(min=0.1, max=10.0, value=1.0, continuous_update=False),\n",
    "         mu2 = FloatSlider(min=-10.0, max=10.0, value=0.0, continuous_update=False),\n",
    "         sigma2 = FloatSlider(min=0.1, max=10.0, value=1.0, continuous_update=False),\n",
    "         rho = FloatSlider(min=-1.0, max=1.0, value=0.0, continuous_update=False),\n",
    "         n = IntSlider(min=100, max=30000, value=1000, continuous_update=False))"
   ]
  },
  {
   "cell_type": "markdown",
   "id": "middle-station",
   "metadata": {},
   "source": [
    "# Zentraler Grenzwertsatz oder warum die Normalverteilung so bedeutend ist"
   ]
  },
  {
   "cell_type": "markdown",
   "id": "joint-radiation",
   "metadata": {},
   "source": [
    "## Verteilung der Summe zweier stetiger Zufallsvariablen\n",
    "\n",
    "Gegeben seien zwei __unabhängige__ Zufallsvariable $X_1 \\sim F_1(x)$ und $X_2 \\sim F_2(x)$ mit den entsprechenden Wahrscheinlichkeitsdichten $f_1(x)$ und $f_2(x)$. Damit ergibt sich für die gemeinsam \n",
    "\n",
    "$$ \n",
    "f_{(X_1, X_2)}(x_1,x_2) = f_{X_1}(x_1) \\cdot f_{X_2}(x_2) \\quad \\text{Unabhängigkeit}\n",
    "$$\n",
    "\n",
    "Welcher Wahrscheinlichkeitsdichte folgt dann die Summe $Z = X_1 + X_2$ der beiden Zufallsvariablen:\n",
    "\n",
    "$$ \n",
    "\\begin{aligned}\n",
    "z = x_1 + x_2 \\, \\wedge \\, x_1 &= t \\, \\mapsto \\, x_2 = z - t \\\\ \n",
    "f_{X_1 + X_2}(z) &= \\int_{-\\infty}^{\\infty}f_{X_1}(t) \\cdot f_{X_2}(z-t) \\; dt \n",
    "\\end{aligned}\n",
    "$$"
   ]
  },
  {
   "cell_type": "markdown",
   "id": "environmental-impression",
   "metadata": {},
   "source": [
    "## Verteilung der Summe mehrerer Zufallsvariablen"
   ]
  },
  {
   "cell_type": "markdown",
   "id": "colored-medium",
   "metadata": {},
   "source": [
    "Die $n$ Zufallsvariablen $X_i$ sind _unabhänig identisch verteilt_ (_i.i.d._), dann gilt:\n",
    "\n",
    "$$ \\sum_{i=1}^n X_i \\sim N(n\\mu , \\sigma \\sqrt{n}) $$"
   ]
  },
  {
   "cell_type": "code",
   "execution_count": null,
   "id": "fabulous-salmon",
   "metadata": {},
   "outputs": [],
   "source": [
    "def plot_sum_random_variables(n, num_bins, sample_size):\n",
    "    y = np.empty([sample_size], dtype=float)\n",
    "    a,b = 0,1\n",
    "    rv = uniform(loc = a, scale = b - a)\n",
    "    for i in range(0,sample_size):\n",
    "        y[i] = sum(rv.rvs(size = n))\n",
    "    fig, ax = plt.subplots()\n",
    "    \n",
    "    # the histogram of the data\n",
    "    n, bins, patches = ax.hist(y, num_bins, density=True)\n",
    "    \n",
    "#plot_sum_random_variables(2,10000)\n",
    "interact(plot_sum_random_variables,\n",
    "         n = IntSlider(min=1, max=40, value=1, continuous_update=False),\n",
    "         num_bins = IntSlider(min=20, max=120, value=50, continuous_update=False),\n",
    "         sample_size = IntSlider(min=100, max=100000, value=1000, continuous_update=False))"
   ]
  }
 ],
 "metadata": {
  "kernelspec": {
   "display_name": "Statistics",
   "language": "python",
   "name": "statistics"
  },
  "language_info": {
   "codemirror_mode": {
    "name": "ipython",
    "version": 3
   },
   "file_extension": ".py",
   "mimetype": "text/x-python",
   "name": "python",
   "nbconvert_exporter": "python",
   "pygments_lexer": "ipython3",
   "version": "3.8.8"
  }
 },
 "nbformat": 4,
 "nbformat_minor": 5
}
