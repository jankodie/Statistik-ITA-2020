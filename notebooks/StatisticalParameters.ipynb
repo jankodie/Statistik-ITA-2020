{
 "cells": [
  {
   "cell_type": "code",
   "execution_count": null,
   "id": "unlimited-gender",
   "metadata": {},
   "outputs": [],
   "source": [
    "%matplotlib notebook\n",
    "from scipy.stats import norm, uniform\n",
    "\n",
    "import numpy as np\n",
    "import matplotlib.pyplot as plt\n",
    "from matplotlib.ticker import NullFormatter"
   ]
  },
  {
   "cell_type": "markdown",
   "id": "experienced-statement",
   "metadata": {},
   "source": [
    "# Lageparameter"
   ]
  },
  {
   "cell_type": "markdown",
   "id": "grave-recovery",
   "metadata": {},
   "source": [
    "## Jensensche Ungleichung\n",
    "\n",
    "* $g$ konvexe Funktion und $X$ Zufallsvariable:\n",
    "\n",
    "$$ g(E(x)) \\le E(g(X)) $$\n",
    "\n",
    "* $g$ konkave Funktion und $X$ Zufallsvariable:\n",
    "\n",
    "$$ g(E(x)) \\ge E(g(X)) $$"
   ]
  },
  {
   "cell_type": "code",
   "execution_count": null,
   "id": "jewish-composition",
   "metadata": {},
   "outputs": [],
   "source": [
    "sqrt = lambda x_vec: np.sqrt(x_vec)\n",
    "sqr = lambda x_vec: x_vec**2\n",
    "\n",
    "def plot_transformation(fun):\n",
    "    mu, sig = 2.5, 1.0\n",
    "    a,b = 0,10\n",
    "    # Sample random data\n",
    "    x = norm.rvs(mu, sig, 1000)\n",
    "    #x = uniform.rvs(loc = a, scale = b - a, size = 1000)\n",
    "    x = x[x>=0]\n",
    "    y = fun(x)\n",
    "\n",
    "    nullfmt = NullFormatter()         # no labels\n",
    "\n",
    "    # definitions for the axes\n",
    "    left, width = 0.05, 0.62\n",
    "    bottom, height = 0.05, 0.62\n",
    "    left_h = left + width + 0.02\n",
    "    bottom_h = bottom + 0.2 + 0.1\n",
    "    \n",
    "    rect_scatter = [left, bottom_h, width, height]\n",
    "    rect_histx = [left, bottom, width, 0.2]\n",
    "    rect_histy = [left_h, bottom_h, 0.2, height]\n",
    "    \n",
    "    # start with a rectangular Figure\n",
    "    plt.figure(1, figsize=(8, 8))\n",
    "    \n",
    "    axScatter = plt.axes(rect_scatter)\n",
    "    axHistx = plt.axes(rect_histx)\n",
    "    axHisty = plt.axes(rect_histy)\n",
    "    \n",
    "    # no labels\n",
    "    axHistx.xaxis.set_major_formatter(nullfmt)\n",
    "    axHisty.yaxis.set_major_formatter(nullfmt)\n",
    "    \n",
    "    # the scatter plot:\n",
    "    axScatter.scatter(x, y)\n",
    "    \n",
    "    # Determine limits:\n",
    "    xlim = np.max(x)\n",
    "    ylim = np.max(y)\n",
    "    \n",
    "    x_mean = np.mean(x)\n",
    "    y_mean = np.mean(y)\n",
    "    \n",
    "    x_line = np.linspace(0,xlim,100)\n",
    "    axScatter.plot(x_line, fun(x_line), '--', color = 'red', lw=2, alpha=0.9, label=f'$g(x)$')\n",
    "    axScatter.axvline(x_mean, color = 'red', ymax = fun(x_mean)/ylim, label=f'$E(x) \\mapsto g(E(x))$')\n",
    "    axScatter.axhline(fun(x_mean), color = 'red', xmin = x_mean/xlim)\n",
    "    axScatter.legend(loc='best', frameon=False)\n",
    "    \n",
    "    axScatter.set_xlim((0, xlim))\n",
    "    axScatter.set_ylim((0, ylim))\n",
    "    \n",
    "    bins = 100\n",
    "    axHistx.hist(x, bins=bins, alpha = 0.8)\n",
    "    axHistx.axvline(x_mean, color = 'red', label=f'$E(x)$')\n",
    "    axHistx.legend(loc='best', frameon=False)\n",
    "    \n",
    "    axHisty.hist(y, bins=bins, orientation='horizontal', alpha = 0.8)\n",
    "    axHisty.axhline(y_mean, color = 'limegreen', label=f'$E(g(x))$')\n",
    "    axHisty.axhline(fun(x_mean), color = 'red', label=f'$g(E(x))$')\n",
    "    axHisty.legend(loc='best', frameon=False)\n",
    "\n",
    "    axHistx.set_xlim(axScatter.get_xlim())\n",
    "    axHisty.set_ylim(axScatter.get_ylim())\n",
    "    \n",
    "    plt.show()\n",
    "    \n",
    "plot_transformation(sqr)"
   ]
  }
 ],
 "metadata": {
  "kernelspec": {
   "display_name": "Statistics",
   "language": "python",
   "name": "statistics"
  },
  "language_info": {
   "codemirror_mode": {
    "name": "ipython",
    "version": 3
   },
   "file_extension": ".py",
   "mimetype": "text/x-python",
   "name": "python",
   "nbconvert_exporter": "python",
   "pygments_lexer": "ipython3",
   "version": "3.8.8"
  }
 },
 "nbformat": 4,
 "nbformat_minor": 5
}
